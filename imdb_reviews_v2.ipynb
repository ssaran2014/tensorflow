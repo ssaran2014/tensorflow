{
  "nbformat": 4,
  "nbformat_minor": 0,
  "metadata": {
    "colab": {
      "name": "imdb_reviews_v2.ipynb",
      "provenance": [],
      "collapsed_sections": [],
      "authorship_tag": "ABX9TyMexgezcXHAUKrRNOwu/ZPT",
      "include_colab_link": true
    },
    "kernelspec": {
      "name": "python3",
      "display_name": "Python 3"
    },
    "accelerator": "GPU"
  },
  "cells": [
    {
      "cell_type": "markdown",
      "metadata": {
        "id": "view-in-github",
        "colab_type": "text"
      },
      "source": [
        "<a href=\"https://colab.research.google.com/github/ssaran2014/tensorflow/blob/master/imdb_reviews_v2.ipynb\" target=\"_parent\"><img src=\"https://colab.research.google.com/assets/colab-badge.svg\" alt=\"Open In Colab\"/></a>"
      ]
    },
    {
      "cell_type": "markdown",
      "metadata": {
        "id": "LGJOdhb-yPzL",
        "colab_type": "text"
      },
      "source": [
        "This colab notebook does sentiment analysis on the imdb_reviews dataset found here: https://www.tensorflow.org/datasets/catalog/imdb_reviews"
      ]
    },
    {
      "cell_type": "code",
      "metadata": {
        "id": "r0fk5bVqH7aU",
        "colab_type": "code",
        "colab": {}
      },
      "source": [
        "import tensorflow as tf\n",
        "import tensorflow_datasets as tfds\n",
        "from tensorflow.keras.preprocessing.text import Tokenizer\n",
        "from tensorflow.keras.preprocessing.sequence import pad_sequences\n",
        "\n",
        "\n",
        "import numpy as np\n",
        "import matplotlib.pyplot as plt"
      ],
      "execution_count": 1,
      "outputs": []
    },
    {
      "cell_type": "code",
      "metadata": {
        "id": "u3Ms-y5WI5FG",
        "colab_type": "code",
        "colab": {}
      },
      "source": [
        "#helper function to extract sentences and to convert labels to arrays\n",
        "def sentence_label_prep(ds):\n",
        "  sentences = []\n",
        "  labels = []\n",
        "\n",
        "  for element in list(ds.as_numpy_iterator()):\n",
        "    sentences.append(tf.compat.as_str_any(element[0]))\n",
        "    labels.append(element[1])\n",
        "\n",
        "  #convert labels from list to np.array\n",
        "  labels = np.array(labels)\n",
        "  \n",
        "  #print(len(train_sentences))\n",
        "  #print(len(train_labels))\n",
        "  return sentences, labels\n",
        "\n",
        "\n",
        "\n",
        "#load data; convert labels to arrays\n",
        "def load_data():\n",
        "  (train_ds, val_ds, test_ds), info = tfds.load('imdb_reviews', \n",
        "                                              shuffle_files=True, \n",
        "                                              split = ('train[:60%]', 'train[60%:]', 'test'),\n",
        "                                              as_supervised=True, \n",
        "                                              with_info=True)\n",
        "\n",
        "  #print info\n",
        "  print(info)\n",
        "\n",
        "  #train_sentences, train_labels = sentence_label_prep(ds['train'])\n",
        "  #test_sentences, test_labels = sentence_label_prep(ds['test'])\n",
        "  train_sentences, train_labels = sentence_label_prep(train_ds)\n",
        "  val_sentences, val_labels = sentence_label_prep(val_ds)\n",
        "  test_sentences, test_labels = sentence_label_prep(test_ds)\n",
        "\n",
        "  return train_sentences, train_labels, val_sentences, val_labels, test_sentences, test_labels\n",
        "\n",
        "#train_sentences, train_labels, val_sentences, val_labels, test_sentences, test_labels = load_data()"
      ],
      "execution_count": 23,
      "outputs": []
    },
    {
      "cell_type": "code",
      "metadata": {
        "id": "laYXvIkRUs48",
        "colab_type": "code",
        "colab": {}
      },
      "source": [
        "#tokenize words; form into sequences; check that sentences can be tokenized and reversed\n",
        "def preprocess(train_sentences, val_sentences, test_sentences, print_test = False):\n",
        "  num_words = 10000\n",
        "  oov_token = \"<OOK>\"\n",
        "\n",
        "  #create tokenizer\n",
        "  tokenizer = Tokenizer(num_words = num_words, oov_token=oov_token)\n",
        "  \n",
        "  #fit on text. This is required before creating sequences\n",
        "  tokenizer.fit_on_texts(train_sentences)\n",
        "  word_index = tokenizer.word_index\n",
        "  reverse_word_index = dict([(value, key) for (key, value) in word_index.items()])\n",
        "\n",
        "  #create sequence\n",
        "  list_of_train_sequences = tokenizer.texts_to_sequences(train_sentences)\n",
        "  list_of_val_sequences = tokenizer.texts_to_sequences(val_sentences)\n",
        "  list_of_test_sequences = tokenizer.texts_to_sequences(test_sentences)\n",
        "\n",
        "  #pad the sequences\n",
        "  max_len = 500\n",
        "  truncating = 'post'\n",
        "  train_padded_sequences = pad_sequences(list_of_train_sequences, maxlen = max_len, truncating=truncating)\n",
        "  val_padded_sequences = pad_sequences(list_of_val_sequences, maxlen=max_len)\n",
        "  test_padded_sequences = pad_sequences(list_of_test_sequences, maxlen=max_len)\n",
        "\n",
        "  #check if the process of converting to index is working by checking to reverse the process\n",
        "  if print_test:\n",
        "    print(train_sentences[0])\n",
        "    print('\\n')\n",
        "    print(' '.join([reverse_word_index.get(i, '?') for i in train_padded_sequences[0].tolist()]))\n",
        "\n",
        "  return train_padded_sequences, val_padded_sequences, test_padded_sequences\n",
        "\n",
        "#train_padded_sequences, val_padded_sequences, test_padded_sequences = preprocess(train_sentences, val_sentences, test_sentences)"
      ],
      "execution_count": 24,
      "outputs": []
    },
    {
      "cell_type": "code",
      "metadata": {
        "id": "-H4ega0XavkQ",
        "colab_type": "code",
        "colab": {}
      },
      "source": [
        "#create embeddings and model\n",
        "def define_model(train_padded_sequences, train_labels, val_padded_sequences, val_labels, test_padded_sequences, test_labels):\n",
        "  vocab_size = 10000\n",
        "  embedding_dim =128\n",
        "  input_length = 500\n",
        "\n",
        "  model = tf.keras.Sequential([\n",
        "                               tf.keras.layers.Embedding(vocab_size, embedding_dim, input_length = input_length),\n",
        "                               #tf.keras.layers.Conv1D(128, 5, activation='relu'),\n",
        "                               tf.keras.layers.Bidirectional(layer = tf.keras.layers.LSTM(32, return_sequences = True)),\n",
        "                               tf.keras.layers.GlobalAveragePooling1D(),\n",
        "                               #tf.keras.layers.Flatten(),\n",
        "                               tf.keras.layers.Dense(250, activation = 'relu'),\n",
        "                               tf.keras.layers.Dropout(0.5),\n",
        "                               tf.keras.layers.Dense(1, activation = 'sigmoid')\n",
        "  ])\n",
        "\n",
        "  model.summary()\n",
        "\n",
        "  model.compile(\n",
        "      optimizer = 'adam',\n",
        "      loss = 'binary_crossentropy',\n",
        "      metrics = ['accuracy']\n",
        "  )\n",
        "\n",
        "  history = model.fit(\n",
        "      train_padded_sequences, train_labels,\n",
        "      epochs = 5,\n",
        "      validation_data = (val_padded_sequences, val_labels),\n",
        "      verbose = 1\n",
        "  )\n",
        "\n",
        "  _, accuracy = model.evaluate(test_padded_sequences, test_labels)\n",
        "  print('Accuracy on test data: {:0.2f}'.format(accuracy))\n",
        "\n",
        "  return history\n",
        "\n",
        "#history = define_model(train_padded_sequences, train_labels, val_padded_sequences, val_labels, test_padded_sequences, test_labels)"
      ],
      "execution_count": 25,
      "outputs": []
    },
    {
      "cell_type": "code",
      "metadata": {
        "id": "9qkaYndK0jQf",
        "colab_type": "code",
        "colab": {}
      },
      "source": [
        "#plotting charts\n",
        "%matplotlib inline\n",
        "\n",
        "def make_plots(history):\n",
        "  fig, (ax1, ax2) = plt.subplots(nrows = 1, ncols = 2, figsize = (10,5))\n",
        "\n",
        "  ax1.plot(history.history['loss'], label = 'training')\n",
        "  ax1.plot(history.history['val_loss'], label = 'val')\n",
        "  ax1.set_title('Loss Curve')\n",
        "  ax1.set_ylim(0,1)\n",
        "\n",
        "\n",
        "  ax2.plot(history.history['accuracy'], label = 'training')\n",
        "  ax2.plot(history.history['val_accuracy'], label = 'val')\n",
        "  ax2.set_title('Accuracy Curve')\n",
        "  ax2.set_ylim(0,1.1)\n",
        "  plt.show()\n",
        "\n",
        "#make_plots(history)"
      ],
      "execution_count": 26,
      "outputs": []
    },
    {
      "cell_type": "code",
      "metadata": {
        "id": "bkfU6k_1Icbt",
        "colab_type": "code",
        "colab": {
          "base_uri": "https://localhost:8080/",
          "height": 1000
        },
        "outputId": "5dc13d8a-b3fb-4522-de25-2a0e50c52946"
      },
      "source": [
        "#full sequential function\n",
        "def run_imdb_sentiment_analysis():\n",
        "  #load data\n",
        "  train_sentences, train_labels, val_sentences, val_labels, test_sentences, test_labels = load_data()\n",
        "\n",
        "  #tokenize and pad sequences\n",
        "  train_padded_sequences, val_padded_sequences, test_padded_sequences = preprocess(train_sentences, val_sentences, test_sentences)\n",
        "\n",
        "  #create model\n",
        "  history = define_model(train_padded_sequences, train_labels, val_padded_sequences, val_labels, test_padded_sequences, test_labels)\n",
        "\n",
        "  #plot loss and accuracy curves\n",
        "  make_plots(history)\n",
        "\n",
        "run_imdb_sentiment_analysis()"
      ],
      "execution_count": 28,
      "outputs": [
        {
          "output_type": "stream",
          "text": [
            "tfds.core.DatasetInfo(\n",
            "    name='imdb_reviews',\n",
            "    version=1.0.0,\n",
            "    description='Large Movie Review Dataset.\n",
            "This is a dataset for binary sentiment classification containing substantially more data than previous benchmark datasets. We provide a set of 25,000 highly polar movie reviews for training, and 25,000 for testing. There is additional unlabeled data for use as well.',\n",
            "    homepage='http://ai.stanford.edu/~amaas/data/sentiment/',\n",
            "    features=FeaturesDict({\n",
            "        'label': ClassLabel(shape=(), dtype=tf.int64, num_classes=2),\n",
            "        'text': Text(shape=(), dtype=tf.string),\n",
            "    }),\n",
            "    total_num_examples=100000,\n",
            "    splits={\n",
            "        'test': 25000,\n",
            "        'train': 25000,\n",
            "        'unsupervised': 50000,\n",
            "    },\n",
            "    supervised_keys=('text', 'label'),\n",
            "    citation=\"\"\"@InProceedings{maas-EtAl:2011:ACL-HLT2011,\n",
            "      author    = {Maas, Andrew L.  and  Daly, Raymond E.  and  Pham, Peter T.  and  Huang, Dan  and  Ng, Andrew Y.  and  Potts, Christopher},\n",
            "      title     = {Learning Word Vectors for Sentiment Analysis},\n",
            "      booktitle = {Proceedings of the 49th Annual Meeting of the Association for Computational Linguistics: Human Language Technologies},\n",
            "      month     = {June},\n",
            "      year      = {2011},\n",
            "      address   = {Portland, Oregon, USA},\n",
            "      publisher = {Association for Computational Linguistics},\n",
            "      pages     = {142--150},\n",
            "      url       = {http://www.aclweb.org/anthology/P11-1015}\n",
            "    }\"\"\",\n",
            "    redistribution_info=,\n",
            ")\n",
            "\n",
            "Model: \"sequential_7\"\n",
            "_________________________________________________________________\n",
            "Layer (type)                 Output Shape              Param #   \n",
            "=================================================================\n",
            "embedding_8 (Embedding)      (None, 500, 128)          1280000   \n",
            "_________________________________________________________________\n",
            "bidirectional_6 (Bidirection (None, 500, 64)           41216     \n",
            "_________________________________________________________________\n",
            "global_average_pooling1d_7 ( (None, 64)                0         \n",
            "_________________________________________________________________\n",
            "dense_14 (Dense)             (None, 250)               16250     \n",
            "_________________________________________________________________\n",
            "dropout_5 (Dropout)          (None, 250)               0         \n",
            "_________________________________________________________________\n",
            "dense_15 (Dense)             (None, 1)                 251       \n",
            "=================================================================\n",
            "Total params: 1,337,717\n",
            "Trainable params: 1,337,717\n",
            "Non-trainable params: 0\n",
            "_________________________________________________________________\n",
            "Epoch 1/5\n",
            "469/469 [==============================] - 27s 57ms/step - loss: 0.4351 - accuracy: 0.7837 - val_loss: 0.3557 - val_accuracy: 0.8532\n",
            "Epoch 2/5\n",
            "469/469 [==============================] - 27s 57ms/step - loss: 0.2063 - accuracy: 0.9200 - val_loss: 0.3234 - val_accuracy: 0.8835\n",
            "Epoch 3/5\n",
            "469/469 [==============================] - 27s 57ms/step - loss: 0.1257 - accuracy: 0.9544 - val_loss: 0.3604 - val_accuracy: 0.8799\n",
            "Epoch 4/5\n",
            "469/469 [==============================] - 27s 57ms/step - loss: 0.0805 - accuracy: 0.9717 - val_loss: 0.3490 - val_accuracy: 0.8773\n",
            "Epoch 5/5\n",
            "469/469 [==============================] - 27s 57ms/step - loss: 0.0543 - accuracy: 0.9810 - val_loss: 0.4417 - val_accuracy: 0.8760\n",
            "782/782 [==============================] - 12s 16ms/step - loss: 0.4749 - accuracy: 0.8649\n",
            "Accuracy on test data: 0.86\n"
          ],
          "name": "stdout"
        },
        {
          "output_type": "display_data",
          "data": {
            "image/png": "[encoded data removed]",
            "text/plain": [
              "<Figure size 720x360 with 2 Axes>"
            ]
          },
          "metadata": {
            "tags": [],
            "needs_background": "light"
          }
        }
      ]
    },
    {
      "cell_type": "code",
      "metadata": {
        "id": "5oxUSYaT3TO0",
        "colab_type": "code",
        "colab": {}
      },
      "source": [
        ""
      ],
      "execution_count": null,
      "outputs": []
    }
  ]
}